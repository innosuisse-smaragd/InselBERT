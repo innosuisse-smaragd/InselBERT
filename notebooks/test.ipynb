{
 "cells": [
  {
   "cell_type": "code",
   "execution_count": 1,
   "id": "initial_id",
   "metadata": {
    "collapsed": true,
    "ExecuteTime": {
     "end_time": "2023-09-04T12:35:14.730688Z",
     "start_time": "2023-09-04T12:35:14.719240Z"
    }
   },
   "outputs": [],
   "source": [
    "import os \n",
    "os.chdir('/Users/daniel/Projects/Smaragd/sk-llm-01')"
   ]
  },
  {
   "cell_type": "code",
   "execution_count": 2,
   "outputs": [
    {
     "ename": "ModuleNotFoundError",
     "evalue": "No module named 'smaragd_shared_python'",
     "output_type": "error",
     "traceback": [
      "\u001B[0;31m---------------------------------------------------------------------------\u001B[0m",
      "\u001B[0;31mModuleNotFoundError\u001B[0m                       Traceback (most recent call last)",
      "Cell \u001B[0;32mIn[2], line 1\u001B[0m\n\u001B[0;32m----> 1\u001B[0m \u001B[38;5;28;01mfrom\u001B[39;00m \u001B[38;5;21;01mshared\u001B[39;00m\u001B[38;5;21;01m.\u001B[39;00m\u001B[38;5;21;01mcas_loader\u001B[39;00m \u001B[38;5;28;01mimport\u001B[39;00m CASLoader\n\u001B[1;32m      2\u001B[0m \u001B[38;5;28;01mimport\u001B[39;00m \u001B[38;5;21;01mconstants\u001B[39;00m\n\u001B[1;32m      4\u001B[0m loader \u001B[38;5;241m=\u001B[39m CASLoader(constants\u001B[38;5;241m.\u001B[39mANNOTATED_REPORTS_PATH)\n",
      "File \u001B[0;32m~/Projects/Smaragd/sk-llm-01/src/shared/cas_loader.py:6\u001B[0m\n\u001B[1;32m      2\u001B[0m \u001B[38;5;28;01mfrom\u001B[39;00m \u001B[38;5;21;01mpathlib\u001B[39;00m \u001B[38;5;28;01mimport\u001B[39;00m Path\n\u001B[1;32m      4\u001B[0m \u001B[38;5;28;01mfrom\u001B[39;00m \u001B[38;5;21;01mshared\u001B[39;00m\u001B[38;5;21;01m.\u001B[39;00m\u001B[38;5;21;01mdataset_entry\u001B[39;00m \u001B[38;5;28;01mimport\u001B[39;00m Dataset_Entry\n\u001B[0;32m----> 6\u001B[0m \u001B[38;5;28;01mfrom\u001B[39;00m \u001B[38;5;21;01msmaragd_shared_python\u001B[39;00m\u001B[38;5;21;01m.\u001B[39;00m\u001B[38;5;21;01mannotation\u001B[39;00m\u001B[38;5;21;01m.\u001B[39;00m\u001B[38;5;21;01mdocument\u001B[39;00m \u001B[38;5;28;01mimport\u001B[39;00m Document\n\u001B[1;32m      7\u001B[0m \u001B[38;5;28;01mfrom\u001B[39;00m \u001B[38;5;21;01msmaragd_shared_python\u001B[39;00m\u001B[38;5;21;01m.\u001B[39;00m\u001B[38;5;21;01mannotation\u001B[39;00m\u001B[38;5;21;01m.\u001B[39;00m\u001B[38;5;21;01mdocument_parser\u001B[39;00m \u001B[38;5;28;01mimport\u001B[39;00m DocumentParser\n\u001B[1;32m      8\u001B[0m \u001B[38;5;28;01mfrom\u001B[39;00m \u001B[38;5;21;01msmaragd_shared_python\u001B[39;00m\u001B[38;5;21;01m.\u001B[39;00m\u001B[38;5;21;01mannotation\u001B[39;00m\u001B[38;5;21;01m.\u001B[39;00m\u001B[38;5;21;01muima_util\u001B[39;00m \u001B[38;5;28;01mimport\u001B[39;00m UIMAUtil\n",
      "\u001B[0;31mModuleNotFoundError\u001B[0m: No module named 'smaragd_shared_python'"
     ]
    }
   ],
   "source": [
    "from shared.cas_loader import CASLoader\n",
    "import constants\n",
    "\n",
    "loader = CASLoader(constants.ANNOTATED_REPORTS_PATH)\n",
    "\n",
    "report = loader.load_CAS_convert_to_offset_dict()\n",
    "report\n"
   ],
   "metadata": {
    "collapsed": false,
    "ExecuteTime": {
     "end_time": "2023-09-04T12:39:37.464098Z",
     "start_time": "2023-09-04T12:39:37.213295Z"
    }
   },
   "id": "b41345814564978f"
  },
  {
   "cell_type": "code",
   "execution_count": null,
   "outputs": [],
   "source": [],
   "metadata": {
    "collapsed": false
   },
   "id": "6c148787c935575a"
  }
 ],
 "metadata": {
  "kernelspec": {
   "display_name": "Python 3",
   "language": "python",
   "name": "python3"
  },
  "language_info": {
   "codemirror_mode": {
    "name": "ipython",
    "version": 2
   },
   "file_extension": ".py",
   "mimetype": "text/x-python",
   "name": "python",
   "nbconvert_exporter": "python",
   "pygments_lexer": "ipython2",
   "version": "2.7.6"
  }
 },
 "nbformat": 4,
 "nbformat_minor": 5
}
